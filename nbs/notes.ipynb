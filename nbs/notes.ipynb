{
 "cells": [
  {
   "cell_type": "markdown",
   "metadata": {},
   "source": [
    "- https://github.com/huggingface/transformers/blob/master/CONTRIBUTING.md#start-contributing-pull-requests\n",
    "\n",
    "```\n",
    "Fork the repository by clicking on the 'Fork' button on the repository's page.\n",
    "$ git clone git@github.com:<your Github handle>/transformers.git\n",
    "$ cd transformers\n",
    "$ git remote add upstream https://github.com/huggingface/transformers.git\n",
    "$ pip install -e \".[dev]\"\n",
    "Right now, we need an unreleased version of isort to avoid a bug:\n",
    "$ pip install -U git+git://github.com/timothycrosley/isort.git@e63ae06ec7d70b06df9e528357650281a3d3ec22#egg=isort\n",
    "```\n",
    "\n",
    "- https://docs.python.org/3/tutorial/venv.html\n",
    "```\n",
    "➜  transformers git:(master) python -m venv ./venv\n",
    "➜  transformers git:(master) source venv/bin/activate\n",
    "(venv) ➜  transformers git:(master) which python\n",
    "/Users/yang.zhang/git/yztransformers/transformers/venv/bin/python\n",
    "(venv) ➜  transformers git:(master) pip install ipykernel\n",
    "(venv) ➜  transformers git:(master) python -m ipykernel install --user --name yztransformers\n",
    "Installed kernelspec yztransformers in /Users/yang.zhang/Library/Jupyter/kernels/yztransformers\n",
    "```"
   ]
  },
  {
   "cell_type": "code",
   "execution_count": null,
   "metadata": {},
   "outputs": [],
   "source": []
  }
 ],
 "metadata": {
  "kernelspec": {
   "display_name": "yztransformers",
   "language": "python",
   "name": "yztransformers"
  },
  "language_info": {
   "codemirror_mode": {
    "name": "ipython",
    "version": 3
   },
   "file_extension": ".py",
   "mimetype": "text/x-python",
   "name": "python",
   "nbconvert_exporter": "python",
   "pygments_lexer": "ipython3",
   "version": "3.7.2"
  },
  "toc": {
   "base_numbering": 1,
   "nav_menu": {},
   "number_sections": true,
   "sideBar": true,
   "skip_h1_title": false,
   "title_cell": "Table of Contents",
   "title_sidebar": "Contents",
   "toc_cell": false,
   "toc_position": {},
   "toc_section_display": true,
   "toc_window_display": false
  }
 },
 "nbformat": 4,
 "nbformat_minor": 2
}
